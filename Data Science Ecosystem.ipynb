{
 "cells": [
  {
   "cell_type": "markdown",
   "id": "7bd8cf22-cad1-42d1-a502-42c1a8c2d8bf",
   "metadata": {},
   "source": [
    "<center>\n",
    "    <img src=\"https://cf-courses-data.s3.us.cloud-object-storage.appdomain.cloud/IBMDeveloperSkillsNetwork-DS0105EN-SkillsNetwork/labs/Module2/images/SN_web_lightmode.png\" width=\"300\" alt=\"cognitiveclass.ai logo\">\n",
    "</center>\n"
   ]
  },
  {
   "cell_type": "markdown",
   "id": "85f7b2fe-4b1a-45c0-97a6-06d9669ea5b1",
   "metadata": {},
   "source": [
    "# Data Science Tools and Ecosystem"
   ]
  },
  {
   "cell_type": "markdown",
   "id": "e14c5a30-ad2c-4d02-ba1a-1aaa464d0d43",
   "metadata": {},
   "source": [
    "In this notebook, Data Science Tools and Ecosystem are summarized."
   ]
  },
  {
   "cell_type": "markdown",
   "id": "c7b62a97-dbcc-46a7-8052-cf569dc06d00",
   "metadata": {},
   "source": [
    "Some of the popular languages that Data Scientists use are:\n",
    "* Python\n",
    "* R\n",
    "* Julia"
   ]
  },
  {
   "cell_type": "markdown",
   "id": "0efcf2cd-b693-449f-805f-c89dad7d62cf",
   "metadata": {},
   "source": [
    "##### Objectives :\n",
    "* List popular languages for Data Science\n",
    "* Data Science Tools\n",
    "* Arithmetic expressions\n",
    "\n",
    "\n"
   ]
  },
  {
   "cell_type": "markdown",
   "id": "c7dada5e-e3fd-41e7-bb0e-c2a4a1ef61d6",
   "metadata": {},
   "source": [
    "Some of the commonly used libraries used by Data Scientists include:\n",
    "\n",
    "* Python\n",
    "  * Pandas\n",
    "  * Numpy\n",
    "  * Matplotlib\n",
    "  * SciPy\n",
    "\n",
    "* R\n",
    "  * ggplot2\n",
    "  * dplyr\n",
    "\n"
   ]
  },
  {
   "cell_type": "markdown",
   "id": "5684846c-cd45-4e3d-a32c-9e870733272b",
   "metadata": {},
   "source": [
    "| Data Science Tools   |\n",
    "|----------------------|\n",
    "| Jupyter Notebook     |\n",
    "| RStudio              |\n",
    "| IBM Watson Studio    |\n"
   ]
  },
  {
   "cell_type": "markdown",
   "id": "42e0bcc4-abb0-4eb4-93c3-7309951b76e7",
   "metadata": {},
   "source": [
    "### Below are a few examples of evaluating arithmetic expressions in Python."
   ]
  },
  {
   "cell_type": "code",
   "execution_count": 1,
   "id": "2b04bb00-284b-4adb-9343-c95f22f8712e",
   "metadata": {},
   "outputs": [
    {
     "data": {
      "text/plain": [
       "17"
      ]
     },
     "execution_count": 1,
     "metadata": {},
     "output_type": "execute_result"
    }
   ],
   "source": [
    "# This a simple arithmetic expression to mutiply then add integers\n",
    "(3*4)+5"
   ]
  },
  {
   "cell_type": "code",
   "execution_count": 2,
   "id": "d62439c6-f883-45dd-9ea6-e957189779c4",
   "metadata": {},
   "outputs": [
    {
     "data": {
      "text/plain": [
       "3.3333333333333335"
      ]
     },
     "execution_count": 2,
     "metadata": {},
     "output_type": "execute_result"
    }
   ],
   "source": [
    "# This will convert 200 minutes to hours by diving by 60\n",
    "200/ 60 \n"
   ]
  },
  {
   "cell_type": "markdown",
   "id": "b35df7f1-a9c7-47ad-b74f-870baccd4d13",
   "metadata": {},
   "source": [
    "## Author\n",
    "MD ABDUL KHALIK"
   ]
  },
  {
   "cell_type": "code",
   "execution_count": null,
   "id": "966ae271-db5d-45e9-bb03-a61f549954c0",
   "metadata": {},
   "outputs": [],
   "source": []
  }
 ],
 "metadata": {
  "kernelspec": {
   "display_name": "Python 3 (ipykernel)",
   "language": "python",
   "name": "python3"
  },
  "language_info": {
   "codemirror_mode": {
    "name": "ipython",
    "version": 3
   },
   "file_extension": ".py",
   "mimetype": "text/x-python",
   "name": "python",
   "nbconvert_exporter": "python",
   "pygments_lexer": "ipython3",
   "version": "3.12.4"
  }
 },
 "nbformat": 4,
 "nbformat_minor": 5
}
